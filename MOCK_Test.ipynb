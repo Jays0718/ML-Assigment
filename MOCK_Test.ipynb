{
 "cells": [
  {
   "cell_type": "code",
   "execution_count": 5,
   "id": "27fd2aab",
   "metadata": {},
   "outputs": [
    {
     "name": "stdout",
     "output_type": "stream",
     "text": [
      "[2002, 2009, 2016, 2023, 2037, 2044, 2051, 2058, 2072, 2079, 2086, 2093, 2107, 2114, 2121, 2128, 2142, 2149, 2156, 2163, 2177, 2184, 2191, 2198, 2212, 2219, 2226, 2233, 2247, 2254, 2261, 2268, 2282, 2289, 2296, 2303, 2317, 2324, 2331, 2338, 2352, 2359, 2366, 2373, 2387, 2394, 2401, 2408, 2422, 2429, 2436, 2443, 2457, 2464, 2471, 2478, 2492, 2499, 2506, 2513, 2527, 2534, 2541, 2548, 2562, 2569, 2576, 2583, 2597, 2604, 2611, 2618, 2632, 2639, 2646, 2653, 2667, 2674, 2681, 2688, 2702, 2709, 2716, 2723, 2737, 2744, 2751, 2758, 2772, 2779, 2786, 2793, 2807, 2814, 2821, 2828, 2842, 2849, 2856, 2863, 2877, 2884, 2891, 2898, 2912, 2919, 2926, 2933, 2947, 2954, 2961, 2968, 2982, 2989, 2996, 3003, 3017, 3024, 3031, 3038, 3052, 3059, 3066, 3073, 3087, 3094, 3101, 3108, 3122, 3129, 3136, 3143, 3157, 3164, 3171, 3178, 3192, 3199]\n"
     ]
    }
   ],
   "source": [
    "#1\n",
    "numlist = []  \n",
    "for i in range(2000,3201):  \n",
    "    if i%7==0 and i%5!=0:  \n",
    "        numlist.append(i)  \n",
    "print(numlist)"
   ]
  },
  {
   "cell_type": "code",
   "execution_count": 11,
   "id": "8a13b04a",
   "metadata": {},
   "outputs": [
    {
     "name": "stdout",
     "output_type": "stream",
     "text": [
      "enter the sentanceJaY DEEP GOOOD MORNING\n",
      "The number of lowercase  is: 1\n",
      "The number of uppercase  is: 21\n"
     ]
    }
   ],
   "source": [
    "#2\n",
    "S = input(\"enter the sentance\")\n",
    "lower=0\n",
    "upper=0\n",
    "for i in S:\n",
    "\tif(i.islower()):\n",
    "\t\t\tlower+=1\n",
    "\telse:\n",
    "\t\t\tupper+=1\n",
    "print(\"The number of lowercase  is:\",lower)\n",
    "print(\"The number of uppercase  is:\",upper)\n"
   ]
  },
  {
   "cell_type": "code",
   "execution_count": null,
   "id": "b6c4b10a",
   "metadata": {},
   "outputs": [],
   "source": [
    "# 3\n",
    "we can do PCA that is principle component analysis."
   ]
  },
  {
   "cell_type": "code",
   "execution_count": null,
   "id": "7e1a22bd",
   "metadata": {},
   "outputs": [],
   "source": [
    "#4\n",
    "lets assume we have  100 image of cancer cell in that image we have 4 cancer cell so we have build the classification \n",
    "model by using these data set. so as our data set is bias twowards the cells that does not have cancer. so after we \n",
    "apply this model to new data or unseen data  or similer data like previous of 100 cell. model just missclassify the 4 \n",
    "cell but model has only 4 cancer cells so model accuracy is 96% but it is not accutally.\n"
   ]
  },
  {
   "cell_type": "code",
   "execution_count": null,
   "id": "8b020aa9",
   "metadata": {},
   "outputs": [],
   "source": [
    "#5 \n",
    "Because in time series we take care about the recent past data not all the past data. and in decision tree we take all the\n",
    "past data so because of that time series regression model gives most accuracy than decision tree model.\n"
   ]
  },
  {
   "cell_type": "code",
   "execution_count": null,
   "id": "e9bb9616",
   "metadata": {},
   "outputs": [],
   "source": [
    "#6\n",
    "In such situations, we can use bagging algorithm (like random forest) to tackle high variance problem. Bagging algorithms \n",
    "divides a data set into subsets made with repeated randomized sampling. Then, these samples are used to generate a set of\n",
    "models using a single learning algorithm."
   ]
  },
  {
   "cell_type": "code",
   "execution_count": null,
   "id": "c416d816",
   "metadata": {},
   "outputs": [],
   "source": [
    "#7\n",
    "so if the columns are highly correleated that means they can give same output, the correleated columns not give impact that\n",
    "much as the other columns or it is better to remove some highly correlated columns to get most better accuracy. so we \n",
    "will run PCA on highly correleated columns."
   ]
  },
  {
   "cell_type": "code",
   "execution_count": null,
   "id": "c2806ddd",
   "metadata": {},
   "outputs": [],
   "source": [
    "#8\n",
    "we use Correlation Matrix to check the multicollinearity.\n",
    "we check  the correlation matrix of the independent variables. High correlation coefficients close to +1 or -1 it shows \n",
    "more  multicollinearity.\n"
   ]
  },
  {
   "cell_type": "code",
   "execution_count": null,
   "id": "e99e80bf",
   "metadata": {},
   "outputs": [],
   "source": [
    "#9\n",
    "Choose Ridge regression over Lasso when dealing with highly correlated predictors, as Ridge handles multicollinearity by \n",
    "shrinking coefficients without removing them entirely. Its suitable for cases where a gradual shrinkage of coefficients\n",
    "is preferred, and theres no explicit need for sparse models or variable selection. The Ridge regression method addresses \n",
    "multicollinearity in linear regression by adding a penalty term based on the squared sum of coefficients"
   ]
  },
  {
   "cell_type": "code",
   "execution_count": null,
   "id": "f7406063",
   "metadata": {},
   "outputs": [],
   "source": [
    "#10\n",
    "so in binary classification tree algorithm we select the root node the basis of information gian which column has more \n",
    "information gain it choose has root node.\n",
    "and  for succeeding nodes we Calculate impurity or information gain \n",
    "\n"
   ]
  },
  {
   "cell_type": "code",
   "execution_count": null,
   "id": "01015c16",
   "metadata": {},
   "outputs": [],
   "source": [
    "#11\n"
   ]
  },
  {
   "cell_type": "code",
   "execution_count": 18,
   "id": "6730676b",
   "metadata": {},
   "outputs": [
    {
     "name": "stdout",
     "output_type": "stream",
     "text": [
      "{1: 'Value for Key 1', 2: 'Value for Key 2', 3: 'Value for Key 3', 4: 'Value for Key 4', 5: 'Value for Key 5', 6: 'Value for Key 6', 7: 'Value for Key 7', 8: 'Value for Key 8', 9: 'Value for Key 9', 10: 'Value for Key 10', 11: 'Value for Key 11', 12: 'Value for Key 12', 13: 'Value for Key 13', 14: 'Value for Key 14', 15: 'Value for Key 15', 16: 'Value for Key 16', 17: 'Value for Key 17', 18: 'Value for Key 18', 19: 'Value for Key 19', 20: 'Value for Key 20'}\n"
     ]
    }
   ],
   "source": [
    "#12\n",
    "def numdict():\n",
    "    dict = {key: \"Value for Key \" + str(key) for key in range(1, 21)}\n",
    "    print(dict)\n",
    "\n",
    "numdict()\n"
   ]
  },
  {
   "cell_type": "code",
   "execution_count": 21,
   "id": "d9d3779e",
   "metadata": {},
   "outputs": [
    {
     "name": "stdout",
     "output_type": "stream",
     "text": [
      "First Half: (1, 2, 3, 4, 5)\n",
      "Second Half: (6, 7, 8, 9, 10)\n"
     ]
    }
   ],
   "source": [
    "#13\n",
    "t = (1, 2, 3, 4, 5, 6, 7, 8, 9, 10)\n",
    "\n",
    "l = len(t)\n",
    "print(\"First Half:\", t[:length // 2])\n",
    "\n",
    "print(\"Second Half:\", t[l // 2:])\n"
   ]
  },
  {
   "cell_type": "code",
   "execution_count": 26,
   "id": "fd1eaa0a",
   "metadata": {},
   "outputs": [
    {
     "name": "stdout",
     "output_type": "stream",
     "text": [
      "List of 5 even numbers between 100 and 200: [100, 102, 104, 106, 108]\n"
     ]
    }
   ],
   "source": [
    "#14\n",
    "even_numbers = [num for num in range(100, 201, 2)[:5]]\n",
    "\n",
    "\n",
    "print(\"List of 5 even numbers between 100 and 200:\", even_numbers)\n"
   ]
  },
  {
   "cell_type": "code",
   "execution_count": 30,
   "id": "e2992ff1",
   "metadata": {},
   "outputs": [
    {
     "name": "stdout",
     "output_type": "stream",
     "text": [
      "Male Person Gender:\n",
      "Male\n",
      "Female Person Gender:\n",
      "Female\n"
     ]
    }
   ],
   "source": [
    "#15\n",
    "class Person:\n",
    "    def gender(self):\n",
    "        print(\"Gender\")\n",
    "\n",
    "class Male(Person):\n",
    "    def gender(self):\n",
    "        print(\"Male\")\n",
    "\n",
    "class Female(Person):\n",
    "    def gender(self):\n",
    "        print(\"Female\")\n",
    "\n",
    "        \n",
    "male_person = Male()\n",
    "female_person = Female()\n",
    "\n",
    "print(\"Male Person Gender:\")\n",
    "male_person.gender()\n",
    "\n",
    "print(\"Female Person Gender:\")\n",
    "female_person.gender()\n"
   ]
  },
  {
   "cell_type": "code",
   "execution_count": null,
   "id": "72087756",
   "metadata": {},
   "outputs": [],
   "source": []
  }
 ],
 "metadata": {
  "kernelspec": {
   "display_name": "Python 3 (ipykernel)",
   "language": "python",
   "name": "python3"
  },
  "language_info": {
   "codemirror_mode": {
    "name": "ipython",
    "version": 3
   },
   "file_extension": ".py",
   "mimetype": "text/x-python",
   "name": "python",
   "nbconvert_exporter": "python",
   "pygments_lexer": "ipython3",
   "version": "3.10.9"
  }
 },
 "nbformat": 4,
 "nbformat_minor": 5
}
