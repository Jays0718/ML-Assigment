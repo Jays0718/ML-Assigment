{
 "cells": [
  {
   "cell_type": "code",
   "execution_count": 7,
   "id": "e4d3fb5b",
   "metadata": {},
   "outputs": [
    {
     "name": "stdout",
     "output_type": "stream",
     "text": [
      "enter the number12\n",
      "Wrird\n"
     ]
    }
   ],
   "source": [
    "#1\n",
    "n= int(input(\"enter the number\"))\n",
    "if n%2!=0:\n",
    "    print(\"Weird\")\n",
    "elif n%2==0 and n>=2 and n<=5:\n",
    "    print(\"Not Weird\")\n",
    "elif n%2==0 and n>=6 and n<=20:\n",
    "    print(\"Wrird\")\n",
    "elif n>20:\n",
    "    print(\"Not Weird\")"
   ]
  },
  {
   "cell_type": "code",
   "execution_count": 10,
   "id": "c9f3bc8a",
   "metadata": {},
   "outputs": [
    {
     "name": "stdout",
     "output_type": "stream",
     "text": [
      "0\n",
      "1\n",
      "4\n"
     ]
    }
   ],
   "source": [
    "#2\n",
    "l = [0,1,2]\n",
    "for i in l:\n",
    "    print(i*i)"
   ]
  },
  {
   "cell_type": "code",
   "execution_count": 76,
   "id": "1fee9914",
   "metadata": {},
   "outputs": [
    {
     "name": "stdout",
     "output_type": "stream",
     "text": [
      "[(0, 0, 0), (0, 0, 1), (0, 0, 2), (0, 0, 3), (0, 0, 4), (0, 1, 0), (0, 1, 1), (0, 1, 2), (0, 1, 3), (0, 2, 0), (0, 2, 1), (0, 2, 2), (0, 2, 4), (0, 3, 0), (0, 3, 1), (0, 3, 3), (0, 3, 4), (1, 0, 0), (1, 0, 1), (1, 0, 2), (1, 0, 3), (1, 1, 0), (1, 1, 1), (1, 1, 2), (1, 1, 4), (1, 2, 0), (1, 2, 1), (1, 2, 3), (1, 2, 4), (1, 3, 0), (1, 3, 2), (1, 3, 3), (1, 3, 4), (2, 0, 0), (2, 0, 1), (2, 0, 2), (2, 0, 4), (2, 1, 0), (2, 1, 1), (2, 1, 3), (2, 1, 4), (2, 2, 0), (2, 2, 2), (2, 2, 3), (2, 2, 4), (2, 3, 1), (2, 3, 2), (2, 3, 3), (2, 3, 4)]\n"
     ]
    }
   ],
   "source": [
    "#3\n",
    "x, y, z, n = 2, 3, 4, 5\n",
    "print([(i, j, k) for i in range(x + 1) for j in range(y + 1)\n",
    "    for k in range(z + 1) if i + j + k != n])\n"
   ]
  },
  {
   "cell_type": "code",
   "execution_count": 19,
   "id": "11a2c63e",
   "metadata": {},
   "outputs": [],
   "source": [
    "#4\n",
    "l  = [2,3,6,6,5]\n",
    "l.sort()\n",
    "for i in l:\n",
    "    if i ==[2]:\n",
    "        print(i)"
   ]
  },
  {
   "cell_type": "code",
   "execution_count": 49,
   "id": "68f59642",
   "metadata": {},
   "outputs": [
    {
     "name": "stdout",
     "output_type": "stream",
     "text": [
      "the average marks of alpha is 45 and average marks of beta is 75\n"
     ]
    }
   ],
   "source": [
    "#5 \n",
    "sum1 = 0\n",
    "sum3 = 0\n",
    "dictt = {'alpha': [20,30,40],'beta':[30,50,70]}\n",
    "tv = dictt['alpha'][0:3]\n",
    "for i in tv:\n",
    "    sum1 = i+ sum1\n",
    "\n",
    "sum2 = sum1\n",
    "avg1 = sum2//2\n",
    "\n",
    "tv1 = dictt['beta'][0:3]\n",
    "for i in tv1:\n",
    "    sum3 = i+ sum3\n",
    "sum4 = sum3\n",
    "avg2 = sum4//2\n",
    "print(\"the average marks of alpha is\",avg1,\"and average marks of beta is\", avg2)"
   ]
  },
  {
   "cell_type": "code",
   "execution_count": 51,
   "id": "f3232c82",
   "metadata": {},
   "outputs": [
    {
     "name": "stdout",
     "output_type": "stream",
     "text": [
      "enter the your full nameJaYdeep\n",
      "jAyDEEP\n"
     ]
    }
   ],
   "source": [
    "#6 \n",
    "a = input(\"enter the your full name\")\n",
    "b= a.swapcase()\n",
    "print(b)"
   ]
  },
  {
   "cell_type": "code",
   "execution_count": 56,
   "id": "ccc61f65",
   "metadata": {},
   "outputs": [
    {
     "name": "stdout",
     "output_type": "stream",
     "text": [
      "This-is-a-test-string-string-test\n"
     ]
    }
   ],
   "source": [
    "#7\n",
    "o_s = \"This is a test string string test\"\n",
    "\n",
    "s_g = o_s.split(\" \")\n",
    "\n",
    "h_g = \"-\".join(s_g)\n",
    "\n",
    "\n",
    "print(h_g)\n"
   ]
  },
  {
   "cell_type": "code",
   "execution_count": 79,
   "id": "9078c3c8",
   "metadata": {},
   "outputs": [
    {
     "name": "stdout",
     "output_type": "stream",
     "text": [
      "Jaydeep shinde rajendra Jaydeep shinde jaydeep shinde sagar yash jaydeep shinde\n",
      "Jaydeep\n",
      "Number of occurrences of 'Jaydeep' in 'Jaydeep shinde rajendra Jaydeep shinde jaydeep shinde sagar yash jaydeep shinde': 2\n"
     ]
    }
   ],
   "source": [
    "#8\n",
    "string = input().strip()\n",
    "sub_string = input().strip()\n",
    "\n",
    "count = 0\n",
    "for i in range(len(string)):\n",
    "  if string[i:].startswith(sub_string):\n",
    "    count += 1\n",
    "\n",
    "print(f\"Number of occurrences of '{sub_string}' in '{string}': {count}\")\n"
   ]
  },
  {
   "cell_type": "code",
   "execution_count": 81,
   "id": "3a1dc023",
   "metadata": {},
   "outputs": [
    {
     "name": "stdout",
     "output_type": "stream",
     "text": [
      "jaydeep4464fijJsd@#$\n",
      "True\n",
      "True\n",
      "True\n",
      "True\n",
      "True\n"
     ]
    }
   ],
   "source": [
    "#9\n",
    "s = input()\n",
    "print(any(i.isalnum() for i in s) )\n",
    "print(any(i.isalpha() for i in s) )\n",
    "print(any(i.isdigit() for i in s) )\n",
    "print(any(i.islower() for i in s) )\n",
    "print(any(i.isupper() for i in s) )"
   ]
  },
  {
   "cell_type": "code",
   "execution_count": 82,
   "id": "e4907aae",
   "metadata": {},
   "outputs": [
    {
     "name": "stdout",
     "output_type": "stream",
     "text": [
      "Enter a string: kjghfgfg nb098765\n",
      "String 'kjghfgfg nb098765' contains only allowed characters? False\n"
     ]
    }
   ],
   "source": [
    "#10\n",
    "string = input(\"Enter a string: \")\n",
    "\n",
    "allowed_chars = \"abcdefghijklmnopqrstuvwxyzABCDEFGHIJKLMNOPQRSTUVWXYZ0123456789\"\n",
    "\n",
    "is_valid = True    \n",
    "for char in string:\n",
    "    if char not in allowed_chars:\n",
    "        is_valid = False\n",
    "        break  \n",
    "print(f\"String '{string}' contains only allowed characters? {is_valid}\")\n"
   ]
  },
  {
   "cell_type": "code",
   "execution_count": 83,
   "id": "267d358f",
   "metadata": {},
   "outputs": [
    {
     "name": "stdout",
     "output_type": "stream",
     "text": [
      "'ab' matches the pattern\n",
      "'abb' matches the pattern\n",
      "'abbb' matches the pattern\n",
      "'ac' does not match the pattern\n",
      "'abc' does not match the pattern\n",
      "'abca' does not match the pattern\n"
     ]
    }
   ],
   "source": [
    "#11\n",
    "strings = [\"ab\", \"abb\", \"abbb\", \"ac\", \"abc\", \"abca\"]\n",
    "\n",
    "for string in strings:\n",
    " if len(string) == 0 or string[0] != \"a\":\n",
    "   print(f\"'{string}' does not match the pattern\")\n",
    " else:\n",
    "   all_bs = True\n",
    "   for char in string[1:]:\n",
    "     if char != \"b\":\n",
    "       all_bs = False\n",
    "       break\n",
    "   if all_bs:\n",
    "     print(f\"'{string}' matches the pattern\")\n",
    "   else:\n",
    "     print(f\"'{string}' does not match the pattern\")\n"
   ]
  },
  {
   "cell_type": "code",
   "execution_count": 85,
   "id": "7aacdb1b",
   "metadata": {},
   "outputs": [
    {
     "name": "stdout",
     "output_type": "stream",
     "text": [
      "'ab' matches the pattern\n",
      "'abb' matches the pattern\n",
      "'abbb' matches the pattern\n",
      "'ac' does not match the pattern\n",
      "'abc' matches the pattern\n",
      "'abca' matches the pattern\n"
     ]
    }
   ],
   "source": [
    "#12\n",
    "strings = [\"ab\", \"abb\", \"abbb\", \"ac\", \"abc\", \"abca\"]\n",
    "\n",
    "for string in strings:\n",
    "  if len(string) == 0 or string[0] != \"a\":\n",
    "    print(f\"'{string}' does not match the pattern\")\n",
    "  else:\n",
    "    has_one_or_more_b = False\n",
    "    for char in string[1:]:\n",
    "      if char == \"b\":\n",
    "        has_one_or_more_b = True\n",
    "        break\n",
    "    if has_one_or_more_b:\n",
    "      print(f\"'{string}' matches the pattern\")\n",
    "    else:\n",
    "      print(f\"'{string}' does not match the pattern\")\n"
   ]
  },
  {
   "cell_type": "code",
   "execution_count": 86,
   "id": "83e97d39",
   "metadata": {},
   "outputs": [
    {
     "name": "stdout",
     "output_type": "stream",
     "text": [
      "'ab' does not match the pattern\n",
      "'abb' does not match the pattern\n",
      "'abbb' matches the pattern\n",
      "'ac' does not match the pattern\n",
      "'abc' does not match the pattern\n",
      "'abca' does not match the pattern\n"
     ]
    }
   ],
   "source": [
    "#13\n",
    "strings = [\"ab\", \"abb\", \"abbb\", \"ac\", \"abc\", \"abca\"]\n",
    "\n",
    "for string in strings:\n",
    "  if len(string) != 4 or string[0] != \"a\" or string[1:4] != \"bbb\":\n",
    "    print(f\"'{string}' does not match the pattern\")\n",
    "  else:\n",
    "    print(f\"'{string}' matches the pattern\")\n"
   ]
  },
  {
   "cell_type": "code",
   "execution_count": 88,
   "id": "7f652d51",
   "metadata": {},
   "outputs": [
    {
     "name": "stdout",
     "output_type": "stream",
     "text": [
      "'ab' does not match the pattern\n",
      "'abb' matches the pattern\n",
      "'abbb' matches the pattern\n",
      "'ac' does not match the pattern\n",
      "'abc' does not match the pattern\n",
      "'abca' does not match the pattern\n"
     ]
    }
   ],
   "source": [
    "#14\n",
    "\n",
    "strings = [\"ab\", \"abb\", \"abbb\", \"ac\", \"abc\", \"abca\"]\n",
    "\n",
    "for string in strings:\n",
    "  if len(string) < 3 or string[0] != \"a\":\n",
    "    print(f\"'{string}' does not match the pattern\")\n",
    "  else:\n",
    "    if len(string) == 3 and string[1:3] == \"bb\":\n",
    "      print(f\"'{string}' matches the pattern\")\n",
    "    elif len(string) >= 4 and string[1:4] == \"bbb\":\n",
    "      print(f\"'{string}' matches the pattern\")\n",
    "    else:\n",
    "      print(f\"'{string}' does not match the pattern\")\n"
   ]
  },
  {
   "cell_type": "code",
   "execution_count": 89,
   "id": "e3b5579d",
   "metadata": {},
   "outputs": [
    {
     "name": "stdout",
     "output_type": "stream",
     "text": [
      "Matches: ['his', 'is', 'a', 'string', 'with', 'multiple', 'lowercase', 'words', 'joined', 'by', 'underscores']\n"
     ]
    }
   ],
   "source": [
    "#15\n",
    "text = \"This_is_a_string_with_multiple_lowercase_words_joined_by_underscores\"\n",
    "\n",
    "matches = []\n",
    "current_word = \"\"\n",
    "\n",
    "for char in text:\n",
    "  if char.islower():\n",
    "    current_word += char\n",
    "  elif char == \"_\" and current_word:\n",
    "    matches.append(current_word)\n",
    "    current_word = \"\"\n",
    "  else:\n",
    "    current_word = \"\"\n",
    "\n",
    "if current_word:\n",
    "  matches.append(current_word)\n",
    "\n",
    "print(\"Matches:\", matches)\n"
   ]
  },
  {
   "cell_type": "code",
   "execution_count": 90,
   "id": "13c98cd3",
   "metadata": {},
   "outputs": [
    {
     "name": "stdout",
     "output_type": "stream",
     "text": [
      "Matches: ['This', 'Is', 'a', 'String', 'with', 'Some', 'Uppercase', 'Words']\n"
     ]
    }
   ],
   "source": [
    "#16\n",
    "text = \"ThisIs_a_String_with_Some_Uppercase_Words\"\n",
    "\n",
    "matches = []\n",
    "current_word = \"\"\n",
    "\n",
    "for char in text:\n",
    "  if char.isupper():\n",
    "    if current_word:\n",
    "      matches.append(current_word)\n",
    "    current_word = char\n",
    "  elif char.islower():\n",
    "    current_word += char\n",
    "  else:\n",
    "    if current_word:\n",
    "      matches.append(current_word)\n",
    "    current_word = \"\"\n",
    "\n",
    "if current_word:\n",
    "  matches.append(current_word)\n",
    "\n",
    "print(\"Matches:\", matches)\n"
   ]
  },
  {
   "cell_type": "code",
   "execution_count": 91,
   "id": "e5a981d0",
   "metadata": {},
   "outputs": [
    {
     "name": "stdout",
     "output_type": "stream",
     "text": [
      "'ab' matches the pattern\n",
      "'abb' matches the pattern\n",
      "'abc' does not match the pattern\n",
      "'abbb' matches the pattern\n",
      "'ac' does not match the pattern\n",
      "'acb' matches the pattern\n",
      "'abca' does not match the pattern\n"
     ]
    }
   ],
   "source": [
    "#17\n",
    "strings = [\"ab\", \"abb\", \"abc\", \"abbb\", \"ac\", \"acb\", \"abca\"]\n",
    "\n",
    "for string in strings:\n",
    "  if string[0] == \"a\" and string[-1] == \"b\":\n",
    "    print(f\"'{string}' matches the pattern\")\n",
    "  else:\n",
    "    print(f\"'{string}' does not match the pattern\")\n"
   ]
  },
  {
   "cell_type": "code",
   "execution_count": 92,
   "id": "63d31349",
   "metadata": {},
   "outputs": [
    {
     "name": "stdout",
     "output_type": "stream",
     "text": [
      "'This is a string' does not match the pattern\n",
      "'Another string' does not match the pattern\n",
      "'Word' does not match the pattern\n",
      "' ' does not match the pattern\n",
      "'' does not match the pattern\n",
      "'123abc' does not match the pattern\n"
     ]
    }
   ],
   "source": [
    "#18\n",
    "strings = [\"This is a string\", \"Another string\", \"Word\", \" \", \"\", \"123abc\"]\n",
    "\n",
    "for string in strings:\n",
    "  if not string or string[0].isspace():\n",
    "    print(f\"'{string}' does not match the pattern\")\n",
    "  else:\n",
    "    if len(string) == 1 or string[1].isspace():\n",
    "      print(f\"'{string}' matches the pattern\")\n",
    "    else:\n",
    "      print(f\"'{string}' does not match the pattern\")\n"
   ]
  },
  {
   "cell_type": "code",
   "execution_count": 93,
   "id": "635948ab",
   "metadata": {},
   "outputs": [
    {
     "name": "stdout",
     "output_type": "stream",
     "text": [
      "'This is a string.' matches the pattern\n",
      "'Another string!' matches the pattern\n",
      "'Word' matches the pattern\n",
      "' ' does not match the pattern\n",
      "'' does not match the pattern\n",
      "'123abc.' matches the pattern\n"
     ]
    }
   ],
   "source": [
    "#19\n",
    "strings = [\"This is a string.\", \"Another string!\", \"Word\", \" \", \"\", \"123abc.\"]\n",
    "\n",
    "for string in strings:\n",
    "  if not string:\n",
    "    print(f\"'{string}' does not match the pattern\")\n",
    "  else:\n",
    "    if len(string) == 1:\n",
    "      print(f\"'{string}' does not match the pattern\")\n",
    "    else:\n",
    "      if string[-1].isalnum() or string[-1] in \".?!\":\n",
    "        if all(char.isspace() for char in string[:-1]):\n",
    "          print(f\"'{string}' does not match the pattern\")\n",
    "        else:\n",
    "          print(f\"'{string}' matches the pattern\")\n",
    "      else:\n",
    "        print(f\"'{string}' does not match the pattern\")\n"
   ]
  },
  {
   "cell_type": "code",
   "execution_count": 94,
   "id": "f9c98275",
   "metadata": {},
   "outputs": [
    {
     "name": "stdout",
     "output_type": "stream",
     "text": [
      "'This is a string with a z' does not match the pattern\n",
      "'Another string' does not match the pattern\n",
      "'Word' does not match the pattern\n",
      "'z' does not match the pattern\n",
      "'123abc' does not match the pattern\n",
      "'buzz' does not match the pattern\n",
      "'fizz' does not match the pattern\n"
     ]
    }
   ],
   "source": [
    "#20\n",
    "strings = [\"This is a string with a z\", \"Another string\", \"Word\", \"z\", \"123abc\", \"buzz\", \"fizz\"]\n",
    "\n",
    "for string in strings:\n",
    "  if not string or len(string) < 3:\n",
    "    print(f\"'{string}' does not match the pattern\")\n",
    "  else:\n",
    "    if string[0] != \"z\" and string[-1] != \"z\":\n",
    "      if \"z\" in string[1:-1]:\n",
    "        print(f\"'{string}' matches the pattern\")\n",
    "      else:\n",
    "        print(f\"'{string}' does not match the pattern\")\n",
    "    else:\n",
    "      print(f\"'{string}' does not match the pattern\")\n"
   ]
  },
  {
   "cell_type": "code",
   "execution_count": 95,
   "id": "eab6ef28",
   "metadata": {},
   "outputs": [
    {
     "name": "stdout",
     "output_type": "stream",
     "text": [
      "'123abc' does not start with 5\n",
      "'456def' does not start with 5\n",
      "'789ghi' does not start with 5\n",
      "'This is a string' does not start with a number\n",
      "'Another string' does not start with a number\n"
     ]
    }
   ],
   "source": [
    "#21\n",
    "specific_number = 5  # Change this to your desired starting number\n",
    "\n",
    "strings = [\"123abc\", \"456def\", \"789ghi\", \"This is a string\", \"Another string\"]\n",
    "\n",
    "for string in strings:\n",
    "  if not string or not string[0].isdigit():\n",
    "    print(f\"'{string}' does not start with a number\")\n",
    "  elif int(string[0]) != specific_number:\n",
    "    print(f\"'{string}' does not start with {specific_number}\")\n",
    "  else:\n",
    "    print(f\"'{string}' starts with {specific_number}\")\n"
   ]
  },
  {
   "cell_type": "code",
   "execution_count": 96,
   "id": "9a694e32",
   "metadata": {},
   "outputs": [
    {
     "name": "stdout",
     "output_type": "stream",
     "text": [
      "'123abc' does not end with a number\n",
      "'456def' does not end with a number\n",
      "'789ghi' does not end with a number\n",
      "'This is a string' does not end with a number\n",
      "'Another string5' ends with the number 5\n",
      "'Yet another12' ends with the number 2\n"
     ]
    }
   ],
   "source": [
    "#22\n",
    "strings = [\"123abc\", \"456def\", \"789ghi\", \"This is a string\", \"Another string5\", \"Yet another12\"]\n",
    "\n",
    "for string in strings:\n",
    "  if not string or not string[-1].isdigit():\n",
    "    print(f\"'{string}' does not end with a number\")\n",
    "  else:\n",
    "    print(f\"'{string}' ends with the number {string[-1]}\")\n"
   ]
  },
  {
   "cell_type": "code",
   "execution_count": 97,
   "id": "22e222a0",
   "metadata": {},
   "outputs": [
    {
     "name": "stdout",
     "output_type": "stream",
     "text": [
      "Numbers found: ['1', '12', '123']\n"
     ]
    }
   ],
   "source": [
    "#23\n",
    "text = \"This string contains numbers 1, 12, 123, 4567, and numbers1234.\"\n",
    "\n",
    "numbers = []\n",
    "current_number = \"\"\n",
    "\n",
    "for char in text:\n",
    "  if char.isdigit():\n",
    "    current_number += char\n",
    "  elif current_number and len(current_number) <= 3:\n",
    "    numbers.append(current_number)\n",
    "    current_number = \"\"\n",
    "  else:\n",
    "    current_number = \"\"\n",
    "\n",
    "if current_number and len(current_number) <= 3:\n",
    "  numbers.append(current_number)\n",
    "\n",
    "print(\"Numbers found:\", numbers)\n"
   ]
  },
  {
   "cell_type": "code",
   "execution_count": 98,
   "id": "5a9a29d6",
   "metadata": {},
   "outputs": [
    {
     "name": "stdout",
     "output_type": "stream",
     "text": [
      "Found words: ['fox', 'dog']\n"
     ]
    }
   ],
   "source": [
    "#24\n",
    "text = 'The quick brown fox jumps over the lazy dog.'\n",
    "searched_words = ['fox', 'dog', 'horse']\n",
    "\n",
    "found_words = []\n",
    "\n",
    "for word in searched_words:\n",
    "  if word in text:\n",
    "    found_words.append(word)\n",
    "\n",
    "print(\"Found words:\", found_words)\n"
   ]
  },
  {
   "cell_type": "code",
   "execution_count": 98,
   "id": "309a77eb",
   "metadata": {},
   "outputs": [
    {
     "name": "stdout",
     "output_type": "stream",
     "text": [
      "Found words: ['fox', 'dog']\n"
     ]
    }
   ],
   "source": [
    "#24\n",
    "text = 'The quick brown fox jumps over the lazy dog.'\n",
    "searched_words = ['fox', 'dog', 'horse']\n",
    "\n",
    "found_words = []\n",
    "\n",
    "for word in searched_words:\n",
    "  if word in text:\n",
    "    found_words.append(word)\n",
    "\n",
    "print(\"Found words:\", found_words)\n"
   ]
  },
  {
   "cell_type": "code",
   "execution_count": 99,
   "id": "8c2eef17",
   "metadata": {},
   "outputs": [
    {
     "name": "stdout",
     "output_type": "stream",
     "text": [
      "Found words and locations: {'fox': 16, 'dog': 40}\n"
     ]
    }
   ],
   "source": [
    "#25\n",
    "text = 'The quick brown fox jumps over the lazy dog.'\n",
    "searched_words = ['fox', 'dog', 'horse']\n",
    "\n",
    "found_words = {}  # A dictionary to store found words and their locations\n",
    "\n",
    "for word in searched_words:\n",
    "  if word in text:\n",
    "    start_index = text.find(word)  # Find the starting index of the word\n",
    "    found_words[word] = start_index\n",
    "\n",
    "print(\"Found words and locations:\", found_words)\n"
   ]
  },
  {
   "cell_type": "code",
   "execution_count": 100,
   "id": "24b3fa2f",
   "metadata": {},
   "outputs": [
    {
     "name": "stdout",
     "output_type": "stream",
     "text": [
      "Found occurrences:\n",
      "- Pattern found at index 7\n",
      "- Pattern found at index 22\n",
      "- Pattern found at index 36\n",
      "\n",
      "Extracted substrings: ['exercises', 'exercises', 'exercises']\n"
     ]
    }
   ],
   "source": [
    "#26\n",
    "text = 'Python exercises, PHP exercises, C# exercises'\n",
    "pattern = 'exercises'\n",
    "\n",
    "occurrences = [i for i in range(len(text)) if text.startswith(pattern, i)]\n",
    "\n",
    "print(\"Found occurrences:\")\n",
    "for index in occurrences:\n",
    "  print(f\"- Pattern found at index {index}\")\n",
    "\n",
    "substrings = [text[start:start + len(pattern)] for start in occurrences]\n",
    "print(\"\\nExtracted substrings:\", substrings)\n"
   ]
  },
  {
   "cell_type": "code",
   "execution_count": 101,
   "id": "8253d9ac",
   "metadata": {},
   "outputs": [
    {
     "name": "stdout",
     "output_type": "stream",
     "text": [
      "Found occurrences and positions:\n",
      "- Pattern found at position 7 to 15\n",
      "- Pattern found at position 22 to 30\n",
      "- Pattern found at position 36 to 44\n"
     ]
    }
   ],
   "source": [
    "#27\n",
    "text = 'Python exercises, PHP exercises, C# exercises'\n",
    "pattern = 'exercises'\n",
    "\n",
    "occurrences = []\n",
    "\n",
    "for i in range(len(text)):\n",
    "  if text.startswith(pattern, i):\n",
    "    occurrences.append((i, i + len(pattern)))  # Store starting and ending indices\n",
    "\n",
    "print(\"Found occurrences and positions:\")\n",
    "for start, end in occurrences:\n",
    "  print(f\"- Pattern found at position {start} to {end - 1}\")\n"
   ]
  },
  {
   "cell_type": "code",
   "execution_count": 102,
   "id": "5e994b2a",
   "metadata": {},
   "outputs": [
    {
     "name": "stdout",
     "output_type": "stream",
     "text": [
      "Text with whitespaces replaced with underscores: This_is_a_string_with_whitespaces.\n",
      "Text with underscores replaced back with whitespaces: This is a string with whitespaces.\n"
     ]
    }
   ],
   "source": [
    "#28\n",
    "text = \"This is a string with whitespaces.\"\n",
    "\n",
    "replaced_with_underscore = text.replace(\" \", \"_\")\n",
    "print(f\"Text with whitespaces replaced with underscores: {replaced_with_underscore}\")\n",
    "\n",
    "replaced_with_whitespace = replaced_with_underscore.replace(\"_\", \" \")\n",
    "print(f\"Text with underscores replaced back with whitespaces: {replaced_with_whitespace}\")\n"
   ]
  },
  {
   "cell_type": "code",
   "execution_count": 103,
   "id": "a96ff032",
   "metadata": {},
   "outputs": [
    {
     "name": "stdout",
     "output_type": "stream",
     "text": [
      "Year: 2024\n",
      "Month: 1\n",
      "Day: 7\n"
     ]
    }
   ],
   "source": [
    "#29\n",
    "url = \"https://www.example.com/news/2024-01-07/article-title\"\n",
    "\n",
    "date_start = url.find(\"-\") - 4\n",
    "\n",
    "if date_start != -5: \n",
    "  date_end = date_start + 10  \n",
    "  date_string = url[date_start:date_end]\n",
    "\n",
    "  year = int(date_string[:4])\n",
    "  month = int(date_string[5:7])\n",
    "  day = int(date_string[8:10])\n",
    "\n",
    "  print(\"Year:\", year)\n",
    "  print(\"Month:\", month)\n",
    "  print(\"Day:\", day)\n",
    "else:\n",
    "  print(\"No date found in the URL.\")\n"
   ]
  },
  {
   "cell_type": "code",
   "execution_count": 104,
   "id": "baa0be8a",
   "metadata": {},
   "outputs": [
    {
     "name": "stdout",
     "output_type": "stream",
     "text": [
      "Converted date: 07-01-2024\n"
     ]
    }
   ],
   "source": [
    "#30\n",
    "date_string = \"2024-01-07\"\n",
    "\n",
    "date_parts = date_string.split(\"-\")\n",
    "\n",
    "converted_date = f\"{date_parts[2]}-{date_parts[1]}-{date_parts[0]}\"\n",
    "\n",
    "print(\"Converted date:\", converted_date)\n"
   ]
  },
  {
   "cell_type": "code",
   "execution_count": null,
   "id": "8f2616e1",
   "metadata": {},
   "outputs": [],
   "source": []
  }
 ],
 "metadata": {
  "kernelspec": {
   "display_name": "Python 3 (ipykernel)",
   "language": "python",
   "name": "python3"
  },
  "language_info": {
   "codemirror_mode": {
    "name": "ipython",
    "version": 3
   },
   "file_extension": ".py",
   "mimetype": "text/x-python",
   "name": "python",
   "nbconvert_exporter": "python",
   "pygments_lexer": "ipython3",
   "version": "3.10.9"
  }
 },
 "nbformat": 4,
 "nbformat_minor": 5
}
